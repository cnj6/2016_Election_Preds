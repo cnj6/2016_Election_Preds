{
  "nbformat": 4,
  "nbformat_minor": 0,
  "metadata": {
    "colab": {
      "name": "CS 4780 Final Project.ipynb",
      "provenance": [],
      "collapsed_sections": []
    },
    "kernelspec": {
      "display_name": "Python 3",
      "language": "python",
      "name": "python3"
    },
    "language_info": {
      "codemirror_mode": {
        "name": "ipython",
        "version": 3
      },
      "file_extension": ".py",
      "mimetype": "text/x-python",
      "name": "python",
      "nbconvert_exporter": "python",
      "pygments_lexer": "ipython3",
      "version": "3.8.5"
    }
  },
  "cells": [
    {
      "cell_type": "markdown",
      "metadata": {
        "id": "B28_C91I5BzH"
      },
      "source": [
        "<h2>CS 4780/5780 Final Project: </h2>\n",
        "<h3>Election Result Prediction for US Counties</h3>\n",
        "\n",
        "Names and NetIDs for your group members: Casey Justus (cnj6), Iain Pile (imp25), Bryan Tantisujjatham (bbt27)"
      ]
    },
    {
      "cell_type": "markdown",
      "metadata": {
        "id": "MPNNoZms5BzH"
      },
      "source": [
        "<h3>Introduction:</h3>\n",
        "\n",
        "<p> The final project is about conducting a real-world machine learning project on your own, with everything that is involved. You now start from scratch. The programming project provide templates for how to do this, and the most recent video lectures summarize some of the tricks you will need (e.g. feature normalization, feature construction). So, this final project brings realism to how you will use machine learning in the real world.  </p>\n",
        "\n",
        "The task you will work on is forecasting election results. Economic and sociological factors have been widely used when making predictions on the voting results of US elections. Economic and sociological factors vary a lot among counties in the United States. In addition, as you may observe from the election map of recent elections, neighbor counties show similar patterns in terms of the voting results. In this project you will bring the power of machine learning to make predictions for the county-level election results using Economic and sociological factors and the geographic structure of US counties. </p>\n",
        "<p>\n",
        "\n",
        "<h3>Your Task:</h3>\n",
        "Plase read the project description PDF file carefully and make sure you write your code and answers to all the questions in this Jupyter Notebook. Your answers to the questions are a large portion of your grade for this final project. Please import the packages in this notebook and cite any references you used as mentioned in the project description. You need to print this entire Jupyter Notebook as a PDF file and submit to Gradescope and also submit the ipynb runnable version to Canvas for us to run.\n",
        "\n",
        "<h3>Due Date:</h3>\n",
        "The final project dataset and template jupyter notebook will be due on <strong>December 15th</strong> . Note that <strong>no late submissions will be accepted</strong>  and you cannot use any of your unused slip days before.\n",
        "</p>"
      ]
    },
    {
      "cell_type": "markdown",
      "metadata": {
        "id": "HRDyHN1g5BzH"
      },
      "source": [
        "![image.png; width=\"100\";](attachment:image.png)"
      ]
    },
    {
      "cell_type": "markdown",
      "metadata": {
        "id": "c2jplN895BzH"
      },
      "source": [
        "<h2>Part 1: Basics</h2><p>"
      ]
    },
    {
      "cell_type": "markdown",
      "metadata": {
        "id": "dyOsk6yT5BzH"
      },
      "source": [
        "<h3>1.1 Import:</h3><p>\n",
        "Please import necessary packages to use. Note that learning and using packages are recommended but not required for this project. Some official tutorial for suggested packacges includes:\n",
        "    \n",
        "https://scikit-learn.org/stable/tutorial/basic/tutorial.html\n",
        "    \n",
        "https://pytorch.org/tutorials/\n",
        "    \n",
        "https://pandas.pydata.org/pandas-docs/stable/user_guide/10min.html\n",
        "<p>"
      ]
    },
    {
      "cell_type": "code",
      "metadata": {
        "id": "krbX4Efl5BzH"
      },
      "source": [
        "#import libraries\n",
        "import os\n",
        "import pandas as pd\n",
        "import numpy as np\n",
        "\n",
        "import matplotlib.pyplot as plt\n",
        "from sklearn import svm\n",
        "from sklearn.metrics import accuracy_score, make_scorer\n",
        "from sklearn.datasets import make_blobs\n",
        "from sklearn.datasets import make_classification\n",
        "from sklearn.model_selection import train_test_split\n",
        "from sklearn.model_selection import GridSearchCV\n",
        "from sklearn.svm import SVC\n",
        "from sklearn.neural_network import MLPClassifier\n",
        "from sklearn.neural_network import MLPRegressor\n",
        "from sklearn.metrics import classification_report"
      ],
      "execution_count": null,
      "outputs": []
    },
    {
      "cell_type": "markdown",
      "metadata": {
        "id": "dXZi_SUr5BzI"
      },
      "source": [
        "<h3>1.2 Weighted Accuracy:</h3><p>\n",
        "Since our dataset labels are heavily biased, you need to use the following function to compute weighted accuracy throughout your training and validation process and we use this for testing on Kaggle.\n",
        "<p>"
      ]
    },
    {
      "cell_type": "code",
      "metadata": {
        "id": "gLbiE7od5BzI"
      },
      "source": [
        "def weighted_accuracy(pred, true):\n",
        "    assert(len(pred) == len(true))\n",
        "    num_labels = len(true)\n",
        "    num_pos = sum(true)\n",
        "    num_neg = num_labels - num_pos\n",
        "    frac_pos = num_pos/num_labels\n",
        "    weight_pos = 1/frac_pos\n",
        "    weight_neg = 1/(1-frac_pos)\n",
        "    num_pos_correct = 0\n",
        "    num_neg_correct = 0\n",
        "    for pred_i, true_i in zip(pred, true):\n",
        "        num_pos_correct += (pred_i == true_i and true_i == 1)\n",
        "        num_neg_correct += (pred_i == true_i and true_i == 0)\n",
        "    weighted_accuracy = ((weight_pos * num_pos_correct) \n",
        "                         + (weight_neg * num_neg_correct))/((weight_pos * num_pos) + (weight_neg * num_neg))\n",
        "    return weighted_accuracy"
      ],
      "execution_count": null,
      "outputs": []
    },
    {
      "cell_type": "markdown",
      "metadata": {
        "id": "MeVPwd_X5BzI"
      },
      "source": [
        "<h2>Part 2: Baseline Solution</h2><p>\n",
        "Note that your code should be commented well and in part 2.4 you can refer to your comments. (e.g. # Here is SVM, \n",
        "# Here is validation for SVM, etc). Also, we recommend that you do not to use 2012 dataset and the graph dataset to reach the baseline accuracy for 68% in this part, a basic solution with only 2016 dataset and reasonable model selection will be enough, it will be great if you explore thee graph and possibly 2012 dataset in Part 3."
      ]
    },
    {
      "cell_type": "code",
      "metadata": {
        "id": "K8PA_DiY5fR2"
      },
      "source": [
        "#import content from google drive\n",
        "from google.colab import drive\n",
        "drive.mount('/content/drive')"
      ],
      "execution_count": null,
      "outputs": []
    },
    {
      "cell_type": "markdown",
      "metadata": {
        "id": "NHv8PDhn5BzI"
      },
      "source": [
        "<h3>2.1 Preprocessing and Feature Extraction:</h3><p>\n",
        "Given the training dataset and graph information, you need to correctly preprocess the dataset (e.g. feature normalization). For baseline solution in this part, you might not need to introduce extra features to reach the baseline test accuracy.\n",
        "<p>"
      ]
    },
    {
      "cell_type": "code",
      "metadata": {
        "id": "B1IJoyQk5BzI"
      },
      "source": [
        "# Loading the training data into df_train, a pandas dataframe\n",
        "train_path = os.path.join(os.getcwd(), \"drive\", \"MyDrive\", \"CS4780 Final Project\", \"train\", \"train_2016.csv\")\n",
        "df_train = pd.read_csv(train_path, sep=',',header=None, encoding='unicode_escape')\n",
        "\n",
        "# Loading the testing data into df_test, a pandas dataframe\n",
        "test_path = os.path.join(os.getcwd(), \"drive\", \"My Drive\", \"CS4780 Final Project\", \"test\", \"test_2016_no_label.csv\")\n",
        "df_test = pd.read_csv(test_path, sep=',',header=None, encoding='unicode_escape')\n",
        "\n",
        "# Converting dataframe into numpy array\n",
        "train = df_train.to_numpy()\n",
        "test = df_test.to_numpy()"
      ],
      "execution_count": null,
      "outputs": []
    },
    {
      "cell_type": "code",
      "metadata": {
        "colab": {
          "base_uri": "https://localhost:8080/"
        },
        "id": "vMgCWCkyDsFb",
        "outputId": "1d22dd80-059c-4475-db42-290de33fab7c"
      },
      "source": [
        "print(train)\r\n",
        "print(test)"
      ],
      "execution_count": null,
      "outputs": [
        {
          "output_type": "stream",
          "text": [
            "[['FIPS' 'County' 'DEM' ... 'DeathRate' 'BachelorRate' 'UnemploymentRate']\n",
            " ['18019' 'Clark County, IN' '18791' ... '11.0' '20.9' '4.2']\n",
            " ['6035' 'Lassen County, CA' '2026' ... '6.3' '12.0' '6.9']\n",
            " ...\n",
            " ['27065' 'Kanabec County, MN' '2327' ... '10.4' '14.6' '6.5']\n",
            " ['17139' 'Moultrie County, IL' '1476' ... '13.0' '19.5' '4.6']\n",
            " ['20185' 'Stafford County, KS' '303' ... '12.1' '23.9' '3.7']]\n",
            "[['FIPS' 'County' 'MedianIncome' ... 'DeathRate' 'BachelorRate'\n",
            "  'UnemploymentRate']\n",
            " ['17059' 'Gallatin County, IL' '39,634' ... '12.5' '9.9' '7.6']\n",
            " ['6103' 'Tehama County, CA' '40,585' ... '10.4' '15.5' '7.1']\n",
            " ...\n",
            " ['42107' 'Schuylkill County, PA' '50,299' ... '13.4' '16.2' '6.2']\n",
            " ['48293' 'Limestone County, TX' '39,382' ... '11.3' '14' '5.6']\n",
            " ['37087' 'Haywood County, NC' '45,290' ... '12.6' '25' '4.5']]\n"
          ],
          "name": "stdout"
        }
      ]
    },
    {
      "cell_type": "code",
      "metadata": {
        "id": "Kdr1AA9me3xd"
      },
      "source": [
        "def preprocess(xTr, xTe):\n",
        "  \"\"\"\n",
        "  Normalize the features of the training set to be zero-mean and have a standard\n",
        "  deviation of 1, then perform the same operations on the testing set.\n",
        "\n",
        "  Input:\n",
        "    xTr: (nxd) training data\n",
        "    xTe: (mxd) testing data\n",
        "  Output: \n",
        "    xTr: (nxd) normalized training data\n",
        "    xTe: (mxd) normalized testing data\n",
        "  \"\"\"\n",
        "  s = np.std(xTr, axis=0)\n",
        "  m = np.mean(xTr, axis=0)\n",
        "\n",
        "  xTr = (xTr - m) / s\n",
        "  xTe = (xTe - m) / s\n",
        "\n",
        "  return xTr, xTe"
      ],
      "execution_count": null,
      "outputs": []
    },
    {
      "cell_type": "code",
      "metadata": {
        "id": "PZHw1IRr86gi"
      },
      "source": [
        "# Removing comma from median income\n",
        "for i in range(1, len(train)):\n",
        "  train[i][4] = train[i][4].replace(\",\", \"\")\n",
        "\n",
        "for i in range(1, len(test)):\n",
        "  test[i][2] = test[i][2].replace(\",\", \"\")"
      ],
      "execution_count": null,
      "outputs": []
    },
    {
      "cell_type": "code",
      "metadata": {
        "id": "KpKfdVhZ9Nnz"
      },
      "source": [
        "#convert data to correct types\n",
        "xTr_up = train[1:, 4:].astype(np.float)\n",
        "dem_votes = train[1:, 2].astype(np.int)\n",
        "gop_votes = train[1:, 3].astype(np.int)\n",
        "xTe_up = test[1:, 2:].astype(np.float)\n",
        "yTr = np.sign(dem_votes - gop_votes)\n",
        "#set gop to 0\n",
        "for i in range(len(yTr)):\n",
        "  if yTr[i] == -1:\n",
        "    yTr[i] = 0\n",
        "assert(len(xTr) == len(yTr))\n",
        "\n",
        "#preprocess data\n",
        "xTr, xTe = preprocess(xTr_up, xTe_up)\n",
        "test_FIPS = test[1:, 0]"
      ],
      "execution_count": null,
      "outputs": []
    },
    {
      "cell_type": "markdown",
      "metadata": {
        "id": "BpDlvXqh5BzI"
      },
      "source": [
        "<h3>2.2 Use At Least Two Training Algorithms from class:</h3><p>\n",
        "You need to use at least two training algorithms from class. You can use your code from previous projects or any packages you imported in part 1.1."
      ]
    },
    {
      "cell_type": "markdown",
      "metadata": {
        "id": "FDOtmCwVfNcU"
      },
      "source": [
        "<h4> Soft-Margin SVM Classifier"
      ]
    },
    {
      "cell_type": "code",
      "metadata": {
        "id": "ANniaPdsBmaW"
      },
      "source": [
        "#scoring\n",
        "def customScore(estimator, X, y):\n",
        "  return weighted_accuracy(estimator.predict(X), y)\n",
        "\n",
        "#SVM model\n",
        "def predSVM(X_train, y_train):\n",
        "  clf = GridSearchCV(estimator=SVC(),\n",
        "          param_grid= {'C': [.1, 1, 10, 100, 1000], \n",
        "                      'gamma': [10, 1, 0.5, 0.1, 0.01], \n",
        "                      'kernel': ['linear', 'rbf']},\n",
        "                      scoring=customScore)\n",
        "  print(\"Fitting\")\n",
        "  clf.fit(X_train, y_train)\n",
        "  print(\"Optimized parameters (from grid search):\", clf.best_params_)\n",
        "  print(\"Weighted validation score:\", clf.best_score_)\n",
        "  return clf"
      ],
      "execution_count": null,
      "outputs": []
    },
    {
      "cell_type": "markdown",
      "metadata": {
        "id": "qMVjYIi3TFqy"
      },
      "source": [
        "<h4> Neural Network Classifier"
      ]
    },
    {
      "cell_type": "code",
      "metadata": {
        "id": "-pa7u0HkTFQp"
      },
      "source": [
        "#Neural Network model\n",
        "def predNN(X_train, y_train):\n",
        "  clf = GridSearchCV(estimator=MLPClassifier(),\n",
        "          param_grid={'hidden_layer_sizes': [50, 100, 200],\n",
        "                      'activation': ['relu', 'tanh', 'sigmoid'],\n",
        "                      'solver': ['sgd','lbfgs'],\n",
        "                      'max_iter': [1000, 2000]},\n",
        "                      scoring=customScore)\n",
        "  print(\"Fitting\")\n",
        "  clf.fit(X_train, y_train)\n",
        "  print(\"Optimized parameters:\", clf.best_params_)\n",
        "  print(\"Weighted validation score:\", clf.best_score_)\n",
        "  return clf"
      ],
      "execution_count": null,
      "outputs": []
    },
    {
      "cell_type": "markdown",
      "metadata": {
        "id": "Z0qnB9xl5BzI"
      },
      "source": [
        "<h3>2.3 Training, Validation and Model Selection:</h3><p>\n",
        "You need to split your data to a training set and validation set or performing a cross-validation for model selection."
      ]
    },
    {
      "cell_type": "code",
      "metadata": {
        "id": "c74HGiKd5BzI"
      },
      "source": [
        "# cross validation and hyper-parameter tuning implemented with GridSearch\n",
        "classifier = predSVM(xTr, yTr)\n",
        "preds = classifier.predict(xTe)"
      ],
      "execution_count": null,
      "outputs": []
    },
    {
      "cell_type": "code",
      "metadata": {
        "id": "AgBFV0YdCq9i"
      },
      "source": [
        "assert(len(test_FIPS) == len(preds))\n",
        "submission = np.column_stack((test_FIPS, preds))\n",
        "pd.DataFrame(data=submission, columns=[\"FIPS\", \"Result\"]).to_csv(\"svmtest.csv\", index=False)"
      ],
      "execution_count": null,
      "outputs": []
    },
    {
      "cell_type": "code",
      "metadata": {
        "id": "R_N-8xDDUaMo"
      },
      "source": [
        "classifier = predNN(xTr, yTr)\n",
        "predsNN = classifier.predict(xTe)"
      ],
      "execution_count": null,
      "outputs": []
    },
    {
      "cell_type": "code",
      "metadata": {
        "id": "ro9fJU2naZgK"
      },
      "source": [
        "assert(len(test_FIPS) == len(preds))\n",
        "submission = np.column_stack((test_FIPS, preds))\n",
        "pd.DataFrame(data=submission, columns=[\"FIPS\", \"Result\"]).to_csv(\"nntest.csv\", index=False)"
      ],
      "execution_count": null,
      "outputs": []
    },
    {
      "cell_type": "markdown",
      "metadata": {
        "id": "SoAZiEpJ5BzI"
      },
      "source": [
        "<h3>2.4 Explanation in Words:</h3><p>\n",
        "    You need to answer the following questions in the markdown cell after this cell:"
      ]
    },
    {
      "cell_type": "markdown",
      "metadata": {
        "id": "djxDVOXX5BzI"
      },
      "source": [
        "2.4.1 How did you preprocess the dataset and features?\n",
        "\n",
        "We standardized the training set so that all features had a mean of zero and a standard deviation of 1 to ensure data was all scaled properly. A quick scan of the dataset found that there were no missing features (at least in the 2016 dataset), so we didn't see the need to impute any features."
      ]
    },
    {
      "cell_type": "markdown",
      "metadata": {
        "id": "K9TZzWM55BzI"
      },
      "source": [
        "2.4.2 Which two learning methods from class did you choose and why did you made the choices?\n",
        "\n",
        "- The first learning method we used was a soft-margin SVM with an rbf kernel. We used Scikit-learn's svm.SVC class, and built both the training and validation of the model into one function `predSVM`, which does k-fold cross-validation and gridsearch, before returning a trained SVM classifier that can be used on the testing set. We figured this was an easily understood model that could capture potential complexity via kernels, and was well-suited to a binary classification problem like this one.\n",
        "\n",
        "- After that, we tried a neural network (scikit-learn's multi-layer perceptron) with a (1) ReLU activation function, (2) a single hidden layer size of (3) 50 nodes, and using the (4) lbfgs optimizer. We figured that a neural network would be good at combining these features in ways that a SVM implementation might not be able to capture, and given sklearn's implementation uses perceptron, it seemed well-suited to the task of binary classification. We implemented this model in a similar way to our SVM in the `predNN` function, which performs k-fold cross validation and gridsearch before returning a neural network classifier."
      ]
    },
    {
      "cell_type": "markdown",
      "metadata": {
        "id": "4W3iWhgen8oR"
      },
      "source": [
        "2.4.3 How did you do the model selection?\n",
        "\n",
        "- For our SVM model, our model selection was built into our training function. We called `GridSearchCV`, which does a grid search across the necessary parameters (in this case, $C$ and the rbf kernel's gamma parameter), to find the combination of parameters that maximizes the weighted accuracy (implemented in our customScorer function), and also performs 5-fold cross validation to find the best subset of the dataset to train on. In our case, it found the best $C$ to be 1000, and the best gamma to be 0.01. \n",
        "  - We felt that 5 folds were reasonable; this meant that our model would be trained on 80% of the data for each iteration, and validated on 20% of the testing data. We wanted to ensure sufficient examples in our training set, and .80 * (1555) = 1244 examples seemed sufficient for each iteration.\n",
        "  - We tried a range of C values (small, medium, and large). This varies the penalty for misclassified points and therefore the margin. The high $C$ value indicates that the best results came when there was a small margin, and could be a sign that the model is overfitting the data.\n",
        "  - We chose the range of gamma values based on the radial basis function. The low values indicates a larger similarity radius and in turn more points are grouped together. The larger values tend to overfit, as the points have to be very close to be in the same class. The model was optimized with a smaller value of gamma, which means it is less likely to be overfitting in that regard.\n",
        "- Our neural network model used similar methods to our SVM one, with sklearn's `GridSearchCV` to perform 5-fold cross validation and gridsearch over parameters. For this one, we trained over sklearn's different activation functions, solvers for backpropagation, hidden layer size, and the number of iterations. We figured this covered a lot of variety in the NN. \n",
        "  - We included several activation functions in the gridsearch, although we didn't want to use the identity, as that would limit the capabilities of any tests using it to only linear decisions, and decided the other three activation functions were sufficient. \n",
        "- Our goal was to reach the baseline accuracy while minimizing runtime. We justified the choice of lbfgs over Adam and sgd because for small datasets and lower dimensional models it is just as good, if not stabler and faster. The downside is its higher memory requirements, but since our model was not very complex, lbgfs was appropriate to use. It also made sense to use a ReLU activation function, because it is not subject to the problem of vanishing gradients like other nonlinear activation functions (e.g. tanh, sigmoid), in that its gradients do not saturate. Finally, a single layer of 50 nodes makes sense if we want to minimize model complexity (and thus training time) while still reaching the baseline accuracy; it seemed sufficient to capture the problem, while not being overly complex. Since this value was chosen by GridSearch, it seemed to suggest that using more nodes (100 or 200) led to overfitting for our one-layer model."
      ]
    },
    {
      "cell_type": "markdown",
      "metadata": {
        "id": "MVuywrvwn-s4"
      },
      "source": [
        "2.4.4 Does the test performance reach a given baseline 68% performance? (Please include a screenshot of Kaggle Submission)"
      ]
    },
    {
      "cell_type": "code",
      "metadata": {
        "id": "7I7-K5mmgDme",
        "colab": {
          "base_uri": "https://localhost:8080/",
          "height": 205
        },
        "outputId": "e61c0c21-4364-4c0d-e0d4-8b46495193a8"
      },
      "source": [
        "from IPython.display import Image\n",
        "\n",
        "Image(filename=\"drive/My Drive/CS4780 Final Project/simplebaseline.png\")"
      ],
      "execution_count": null,
      "outputs": [
        {
          "output_type": "execute_result",
          "data": {
            "image/png": "[encoded data removed]",
            "text/plain": [
              "<IPython.core.display.Image object>"
            ]
          },
          "metadata": {
            "tags": []
          },
          "execution_count": 20
        }
      ]
    },
    {
      "cell_type": "markdown",
      "metadata": {
        "id": "cNHG9ht05BzI"
      },
      "source": [
        "<h2>Part 3: Creative Solution</h2><p>"
      ]
    },
    {
      "cell_type": "markdown",
      "metadata": {
        "id": "dlDoTV-W5BzI"
      },
      "source": [
        "<h3>3.1 Open-ended Code:</h3><p>\n",
        "You may follow the steps in part 2 again but making innovative changes like creating new features, using new training algorithms, etc. Make sure you explain everything clearly in part 3.2. Note that reaching the 75% creative baseline is only a small portion of this part. Any creative ideas will receive most points as long as they are reasonable and clearly explained."
      ]
    },
    {
      "cell_type": "markdown",
      "metadata": {
        "id": "MV_OPAGYErbo"
      },
      "source": [
        "<h4> Processing"
      ]
    },
    {
      "cell_type": "code",
      "metadata": {
        "id": "sAn0jKk55BzI"
      },
      "source": [
        "# Loading the training data into df_train, a pandas dataframe\n",
        "train_path2012 = os.path.join(os.getcwd(), \"drive\", \"MyDrive\", \"CS4780 Final Project\", \"train\", \"train_2012.csv\")\n",
        "df_train2012 = pd.read_csv(train_path2012, sep=',',header=None, encoding='unicode_escape')\n",
        "\n",
        "# Loading the testing data into df_test, a pandas dataframe\n",
        "test_path2012 = os.path.join(os.getcwd(), \"drive\", \"My Drive\", \"CS4780 Final Project\", \"test\", \"test_2012_no_label.csv\")\n",
        "df_test2012 = pd.read_csv(test_path2012, sep=',',header=None, encoding='unicode_escape')\n",
        "\n",
        "# Loading the graph data into df_graph, a pandas dataframe\n",
        "test_graph = os.path.join(os.getcwd(), \"drive\", \"My Drive\", \"CS4780 Final Project\", \"train\", \"graph.csv\")\n",
        "df_graph = pd.read_csv(test_graph, sep=',',header=None, encoding='unicode_escape')\n",
        "\n",
        "# Converting dataframe into numpy array\n",
        "train2012 = df_train2012.to_numpy()\n",
        "test2012 = df_test2012.to_numpy()\n",
        "graph = df_graph.to_numpy()\n",
        "\n",
        "# Removing comma from median income\n",
        "for i in range(1, len(train2012)):\n",
        "  train2012[i][4] = train2012[i][4].replace(\",\", \"\")\n",
        "\n",
        "for i in range(1, len(test2012)):\n",
        "  test2012[i][2] = test2012[i][2].replace(\",\", \"\")\n",
        "\n",
        "#format training and testing data\n",
        "xTr12 = train2012[1:, 4:].astype(np.float)\n",
        "xTe12 = test2012[1:, 2:].astype(np.float)\n",
        "xTr12, xTe12 = preprocess(xTr12, xTe12)"
      ],
      "execution_count": null,
      "outputs": []
    },
    {
      "cell_type": "code",
      "metadata": {
        "id": "OrndNUN4Pv_y"
      },
      "source": [
        "# change in birth/death rate between 2012 and 2016 new feature\n",
        "change_birth=xTr12[:,3]-xTr[:,3]\n",
        "change_birth.shape=(1555,1)\n",
        "\n",
        "change_death=xTr12[:,4]-xTr[:,4]\n",
        "change_death.shape=(1555,1)\n",
        "\n",
        "change_birth_test=xTe12[:,3]-xTe[:,3]\n",
        "change_birth_test.shape=(len(change_birth_test),1)\n",
        "change_death_test=xTe12[:,4]-xTe[:,4]\n",
        "change_death_test.shape=(len(change_death_test),1)"
      ],
      "execution_count": null,
      "outputs": []
    },
    {
      "cell_type": "markdown",
      "metadata": {
        "id": "1sgfp62xeNj-"
      },
      "source": [
        "<h5> Neighbor Relationships"
      ]
    },
    {
      "cell_type": "code",
      "metadata": {
        "id": "c7xwza4JBOFr"
      },
      "source": [
        "# creating a mapping of FIPS scores to label for use in determining adjacent votes\n",
        "FIPS_vote_map = {}\n",
        "data = train[1:]\n",
        "for i in range(len(data)):\n",
        "  FIPS_vote_map[data[i][0]] = yTr[i]\n",
        "FIPS_set = set(FIPS_vote_map.keys())"
      ],
      "execution_count": null,
      "outputs": []
    },
    {
      "cell_type": "code",
      "metadata": {
        "id": "U2M0qBHyWJz3"
      },
      "source": [
        "# create a mapping of FIPS score to most common label among neighbors\n",
        "neighbors = {}\n",
        "for src, dest in graph:\n",
        "  if src != dest:\n",
        "    if dest in FIPS_set:\n",
        "      if src in neighbors.keys():\n",
        "        neighbors[src].append(FIPS_vote_map[dest])\n",
        "      else:\n",
        "        neighbors[src] = [FIPS_vote_map[dest]]\n",
        "\n",
        "neighbor_maps = {}\n",
        "for f, n in neighbors.items():\n",
        "  neighbor_maps[f] = np.bincount(np.array(n, dtype=int)).argmax()"
      ],
      "execution_count": null,
      "outputs": []
    },
    {
      "cell_type": "code",
      "metadata": {
        "id": "AeRD6jb5eKtT"
      },
      "source": [
        "# if a county has no neighbor information, impute the missing value\n",
        "trNeighbors = []\n",
        "trImpute = []\n",
        "for ex in train[1:]:\n",
        "  if ex[0] in neighbor_maps.keys():\n",
        "    trNeighbors.append(neighbor_maps[ex[0]])\n",
        "    trImpute.append(0)\n",
        "  else:\n",
        "    trNeighbors.append(0)\n",
        "    trImpute.append(1)\n",
        "\n",
        "teNeighbors = []\n",
        "teImpute = []\n",
        "for ex in test[1:]:\n",
        "    if ex[0] in neighbor_maps.keys():\n",
        "      teNeighbors.append(neighbor_maps[ex[0]])\n",
        "      teImpute.append(0)\n",
        "    else:\n",
        "      teNeighbors.append(0)\n",
        "      teImpute.append(1)\n",
        "\n",
        "# get arrays indicating num neighbors, or if that information is missing\n",
        "nTr = np.array(trNeighbors, dtype=np.float)\n",
        "iTr = np.array(trImpute, dtype=np.float)\n",
        "nTe = np.array(teNeighbors, dtype=np.float)\n",
        "iTe = np.array(teImpute, dtype=np.float)"
      ],
      "execution_count": null,
      "outputs": []
    },
    {
      "cell_type": "code",
      "metadata": {
        "id": "xe_jxHA0iR3P"
      },
      "source": [
        "# reshape arrays\n",
        "nTr = np.reshape(nTr, (len(nTr), 1))\n",
        "iTr = np.reshape(iTr, (len(iTr), 1))\n",
        "nTe = np.reshape(nTe, (len(nTe), 1))\n",
        "iTe = np.reshape(nTr, (len(iTe), 1))"
      ],
      "execution_count": null,
      "outputs": []
    },
    {
      "cell_type": "markdown",
      "metadata": {
        "id": "zqsELHDRXiQe"
      },
      "source": [
        "Birth/Death Rates"
      ]
    },
    {
      "cell_type": "code",
      "metadata": {
        "id": "wANmxy8phh5c"
      },
      "source": [
        "#add change in birth/death rate to testing and training sets\n",
        "data=np.append(train[1:,4:],change_birth,axis=1)\n",
        "data=np.append(train[1:,4:],change_death,axis=1)\n",
        "\n",
        "data_Te=np.append(test[1:,2:],change_birth_test,axis=1)\n",
        "data_Te=np.append(test[1:,2:], change_death_test,axis=1)\n",
        "\n",
        "xTr = np.hstack((xTr, nTr, iTr)).astype(np.float)\n",
        "xTe = np.hstack((xTe, nTe, iTe)).astype(np.float)\n",
        "\n",
        "# preprocess new dataset\n",
        "xTr, xTe = preprocess(data.astype(np.float), data_Te.astype(np.float))\n"
      ],
      "execution_count": null,
      "outputs": []
    },
    {
      "cell_type": "markdown",
      "metadata": {
        "id": "XIMOfrsERyEb"
      },
      "source": [
        "<h4> Model"
      ]
    },
    {
      "cell_type": "code",
      "metadata": {
        "id": "kVesD1S_97A3"
      },
      "source": [
        "# Neural Network to generate predictions.\n",
        "def predNN_2(X_train, y_train):\n",
        "  clf = GridSearchCV(estimator=MLPClassifier(),\n",
        "          param_grid={'hidden_layer_sizes': [50, 100, 125, 150, 200],\n",
        "                      'activation': ['relu', 'tanh'],\n",
        "                      'solver': ['sgd','lbfgs', 'adam'],\n",
        "                      'max_iter': [1000, 2000]},\n",
        "                      scoring=customScore)\n",
        "  print(\"Fitting\")\n",
        "  clf.fit(X_train, y_train)\n",
        "  print(\"Optimized parameters:\", clf.best_params_)\n",
        "  print(\"Weighted validation score:\", clf.best_score_)\n",
        "  return clf"
      ],
      "execution_count": null,
      "outputs": []
    },
    {
      "cell_type": "code",
      "metadata": {
        "id": "mcNwv4iJi4B3"
      },
      "source": [
        "#Neural Network to generate predictions\r\n",
        "def predNN_2(X_train, y_train):\r\n",
        "  clf = GridSearchCV(estimator=MLPClassifier(),\r\n",
        "          param_grid={'hidden_layer_sizes': [(80, 25)],\r\n",
        "                      'activation': ['relu'],\r\n",
        "                      'solver': ['adam', 'lbfgs'],\r\n",
        "                      'max_iter': [2000],\r\n",
        "                      'learning_rate': ['constant'],\r\n",
        "                      'learning_rate_init': [.00011, .00012, .0001, .001]},\r\n",
        "                      scoring=customScore)\r\n",
        "  print(\"Fitting\")\r\n",
        "  clf.fit(X_train, y_train)\r\n",
        "  print(\"Optimized parameters:\", clf.best_params_)\r\n",
        "  print(\"Weighted validation score:\", clf.best_score_)\r\n",
        "  return clf"
      ],
      "execution_count": null,
      "outputs": []
    },
    {
      "cell_type": "markdown",
      "metadata": {
        "id": "bb_far4Bj6Yl"
      },
      "source": [
        "<h4> Evaluation"
      ]
    },
    {
      "cell_type": "code",
      "metadata": {
        "colab": {
          "base_uri": "https://localhost:8080/"
        },
        "id": "9UwpvPmAj9VT",
        "outputId": "a15357f5-06f2-4af7-a237-a76e3fe85918"
      },
      "source": [
        "#Calling Neural Network for Predictions\n",
        "classifier = predNN_2(xTr, yTr)\n",
        "preds = classifier.predict(xTe)\n"
      ],
      "execution_count": null,
      "outputs": [
        {
          "output_type": "stream",
          "text": [
            "Fitting\n",
            "Optimized parameters: {'activation': 'relu', 'hidden_layer_sizes': (80, 25), 'learning_rate': 'constant', 'learning_rate_init': 0.00012, 'max_iter': 2000, 'solver': 'adam'}\n",
            "Weighted validation score: 0.7397660818713451\n"
          ],
          "name": "stdout"
        }
      ]
    },
    {
      "cell_type": "code",
      "metadata": {
        "id": "oZcbJpapmJ_3"
      },
      "source": [
        "#Save Predictions\n",
        "assert(len(test_FIPS) == len(preds))\n",
        "submission = np.column_stack((test_FIPS, preds))\n",
        "pd.DataFrame(data=submission, columns=[\"FIPS\", \"Result\"]).to_csv(\"creativetest2.csv\", index=False)\n"
      ],
      "execution_count": null,
      "outputs": []
    },
    {
      "cell_type": "markdown",
      "metadata": {
        "id": "Hq4E2j8g5BzI"
      },
      "source": [
        "<h3>3.2 Explanation in Words:</h3><p>"
      ]
    },
    {
      "cell_type": "markdown",
      "metadata": {
        "id": "TkPDxqaF3v13"
      },
      "source": [
        "# You need to answer the following questions in a markdown cell after this cell:\n",
        "\n",
        "3.2.1 How much did you manage to improve performance on the test set compared to part 2? Did you reach the 75% accuracy for the test in Kaggle? (Please include a screenshot of Kaggle Submission)"
      ]
    },
    {
      "cell_type": "markdown",
      "metadata": {
        "id": "SO8U44crWQiV"
      },
      "source": [
        "We managed to improve the score by approximately 8-9%, surpassing the 75% accuracy baseline."
      ]
    },
    {
      "cell_type": "code",
      "metadata": {
        "colab": {
          "base_uri": "https://localhost:8080/",
          "height": 105
        },
        "id": "u8i0JWYE3wi3",
        "outputId": "d9d9f6e0-7202-4ded-a3a0-746f5528fc49"
      },
      "source": [
        "Image(filename=\"drive/My Drive/CS4780 Final Project/creativebaseline.png\")"
      ],
      "execution_count": null,
      "outputs": [
        {
          "output_type": "execute_result",
          "data": {
            "image/png": "[encoded data removed]",
            "text/plain": [
              "<IPython.core.display.Image object>"
            ]
          },
          "metadata": {
            "tags": []
          },
          "execution_count": 21
        }
      ]
    },
    {
      "cell_type": "markdown",
      "metadata": {
        "id": "XACRPutg5BzI"
      },
      "source": [
        "\n",
        "\n",
        "3.2.2 Please explain in detail how you achieved this and what you did specifically and why you tried this.\n",
        "\n",
        "**Answer:** We didn't change our model very much, and most of the parameters we considered for our gridsearch were the same as for our baseline solution. Rather, we considered a different set of features, utilizing the additional 2012 and graph datasets. Both experiments we tried improved our performanance, so we incorporated both into our training set.\n",
        "\n",
        "- We chose to use our neural network model from the baseline solution, as it was the stronger of our two models. We implemented it in the same way, using sk-learn's `GridSearchCV` class to perform cross-validation. \n",
        "\n",
        "- Although birth rate and death rates were informative as features, we felt it would be useful to consider their 4 year change as well. We added two features representing the change in birth and death rate between 2012 and 2016, as some shift in that could result in a shift in demographics or attitudes in a given county (whether the number of parents increased, or more people died). This had a positive effect on our dataset.\n",
        "\n",
        "- Intuitively, nearby counties should have similar demographics, and one would expect votes to trend in similar ways (for example, how Democratic counties tend to be heavily centered in cities, but sparse everywhere else). To account for this, we used data regarding neighboring counties to map each county to a list of its neighbors' FIPS IDs, and used those IDs to identify how most neighboring counties present in the training set voted, and added this as a feature. If none of a county's neighbors were in the training set, we assigned this feature the label 0. We added a binary impute feature that was 1 when there were no neighbors present in the training set, and 0 otherwise, to indicate that there was no data for that county. \n",
        "- We added a learning rate parameter to try for the neural network as that can have a big impact on the model. The learning rate parameter always has a small positive value, generally 0-0.1, so we chose values within that range. Changing these values changes the amount weights are updated during training. The very small value of 0.0012 indicates that smaller changes are made to the weights each update. The fact that there were learning rates smaller and larger than this is a good sign, as if the rate was too small sometimes the process can get stuck and if it is too large it can cause the model to converge too soon to an unoptimal solution (or not converge at all within the max number of iterations)\n",
        "- We changed the number of hidden layers. We first ran grid search over a range of node numbers for one hidden layer (in the range of 50 to 200), which outputted 100 nodes as the optimal for one hidden layer. We then manually tweaked this number and added a second hidden layer, picking the tuple of node numbers (x, x2) where x < 100, x2 < 100, that produced the highest validation score."
      ]
    },
    {
      "cell_type": "markdown",
      "metadata": {
        "id": "7dHtRYhf5BzI"
      },
      "source": [
        "<h2>Part 4: Kaggle Submission</h2><p>\n",
        "You need to generate a prediction CSV using the following cell from your trained model and submit the direct output of your code to Kaggle. The CSV shall contain TWO column named exactly \"FIPS\" and \"Result\" and 1555 total rows excluding the column names, \"FIPS\" column shall contain FIPS of counties with same order as in the test_2016_no_label.csv while \"Result\" column shall contain the 0 or 1 prdicaitons for corresponding columns. A sample predication file can be downloaded from Kaggle."
      ]
    },
    {
      "cell_type": "code",
      "metadata": {
        "id": "Ndq1hFNX5BzI"
      },
      "source": [
        "# TODO\n",
        "\n",
        "# You may use pandas to generate a dataframe with FIPS and your predictions first \n",
        "# and then use to_csv to generate a CSV file.\n",
        "assert(len(test_FIPS) == len(preds))\n",
        "submission = np.column_stack((test_FIPS, preds))\n",
        "pd.DataFrame(data=submission, columns=[\"FIPS\", \"Result\"]).to_csv(\"creativetest.csv\", index=False)"
      ],
      "execution_count": null,
      "outputs": []
    },
    {
      "cell_type": "markdown",
      "metadata": {
        "id": "fmnWreTA5BzI"
      },
      "source": [
        "<h2>Part 5: Resources and Literature Used</h2><p>"
      ]
    },
    {
      "cell_type": "markdown",
      "metadata": {
        "id": "Dboi-bG-5BzI"
      },
      "source": [
        "[GridSearch Tutorial](https://scikit-learn.org/stable/modules/grid_search.html)\r\n",
        "\r\n",
        "[Scikit-learn Tutorial](https://www.dataquest.io/blog/sci-kit-learn-tutorial) \r\n",
        "\r\n",
        "[Scikit-learn MLPClassifier documentation](https://scikit-learn.org/stable/modules/generated/sklearn.neural_network.MLPClassifier.html)\r\n",
        "\r\n",
        "[CNNs for Visual Recognition](https://cs231n.github.io/)\r\n",
        "\r\n",
        "[LBFGS Primer/Documentation](https://documentation.sas.com/?docsetId=casdlpg&docsetTarget=p1i430hb7ri1fnn1511qu227wtbw.htm&docsetVersion=8.3&locale=fr#:~:text=Compared%20to%20SGD%2C%20L%2DBFGS,has%20fewer%20hyperparameters%20to%20tune.)"
      ]
    }
  ]
}
